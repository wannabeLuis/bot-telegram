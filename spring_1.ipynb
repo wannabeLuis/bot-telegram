{
  "nbformat": 4,
  "nbformat_minor": 0,
  "metadata": {
    "colab": {
      "provenance": [],
      "name": "spring-1.ipynb",
      "authorship_tag": "ABX9TyNpd7pVj6otdHbJ7l7J6GdT",
      "include_colab_link": true
    },
    "kernelspec": {
      "name": "python3",
      "display_name": "Python 3"
    },
    "language_info": {
      "name": "python"
    }
  },
  "cells": [
    {
      "cell_type": "markdown",
      "metadata": {
        "id": "view-in-github",
        "colab_type": "text"
      },
      "source": [
        "<a href=\"https://colab.research.google.com/github/wannabeLuis/bot-telegram/blob/main/spring_1.ipynb\" target=\"_parent\"><img src=\"https://colab.research.google.com/assets/colab-badge.svg\" alt=\"Open In Colab\"/></a>"
      ]
    },
    {
      "cell_type": "code",
      "execution_count": null,
      "metadata": {
        "colab": {
          "base_uri": "https://localhost:8080/"
        },
        "id": "fomdwnLrNn_w",
        "outputId": "b4b60726-f6f6-466f-e471-c4d7d8df4e3b"
      },
      "outputs": [
        {
          "output_type": "stream",
          "name": "stdout",
          "text": [
            "Escribe un numero1000\n",
            "yes\n"
          ]
        }
      ],
      "source": [
        "w = int(input('Escribe un numero'))\n",
        "\n",
        "if w != 2 and w % 2 == 0:\n",
        "   print('yes')\n",
        "else:\n",
        "    print('no')"
      ]
    },
    {
      "cell_type": "code",
      "source": [
        "s = 'hola mundo, bienvenido'\n",
        "\n",
        "s[13]"
      ],
      "metadata": {
        "colab": {
          "base_uri": "https://localhost:8080/",
          "height": 35
        },
        "id": "zXd9L3ptQ49J",
        "outputId": "445dff08-b8fa-436a-c4a1-a770168658d9"
      },
      "execution_count": null,
      "outputs": [
        {
          "output_type": "execute_result",
          "data": {
            "text/plain": [
              "'i'"
            ],
            "application/vnd.google.colaboratory.intrinsic+json": {
              "type": "string"
            }
          },
          "metadata": {},
          "execution_count": 4
        }
      ]
    },
    {
      "cell_type": "code",
      "source": [
        "movies_info = [\n",
        "    ['The Shawshank Redemption', 'USA', 1994, 'drama', 142, 9.111],\n",
        "    ['The Godfather', 'USA', 1972, 'drama, crime', 175, 8.730],\n",
        "    ['The Dark Knight', 'USA', 2008, 'fantasy, action, thriller', 152, 8.499],\n",
        "    [\"Schindler's List\", 'USA', 1993, 'drama', 195, 8.818],\n",
        "    ['The Lord of the Rings: The Return of the King', 'New Zealand', 2003, 'fantasy, adventure, drama', 201, 8.625],\n",
        "    ['Pulp Fiction', 'USA', 1994, 'thriller, comedy, crime', 154, 8.619],\n",
        "    ['The Good, the Bad and the Ugly', 'Italy', 1966, 'western', 178, 8.521],\n",
        "    ['Fight Club', 'USA', 1999, 'thriller, drama, crime', 139, 8.644],\n",
        "    ['Harakiri', 'Japan', 1962, 'drama, action, history', 133, 8.106],\n",
        "    ['Good Will Hunting', 'USA', 1997, 'drama, romance', 126, 8.077]\n",
        "]\n",
        "\n",
        "print(movies_info[1][3])"
      ],
      "metadata": {
        "id": "q9v65oTkSUOY",
        "colab": {
          "base_uri": "https://localhost:8080/"
        },
        "outputId": "db2698c3-fe0e-441e-c9a7-2ac55710a331"
      },
      "execution_count": null,
      "outputs": [
        {
          "output_type": "stream",
          "name": "stdout",
          "text": [
            "drama, crime\n"
          ]
        }
      ]
    },
    {
      "cell_type": "code",
      "source": [
        "numbers = [1,2,3,4,5,6,7,8,9,10]\n",
        "\n",
        "for number in numbers: # con esto podemos generar muchas ideas en texto para los chats\n",
        "  print(number)\n",
        "  print('*' * 50)\n",
        "  print('I am a for bucle ' * 3)\n",
        "  print('#'*50)"
      ],
      "metadata": {
        "colab": {
          "base_uri": "https://localhost:8080/"
        },
        "id": "PGJkScaiOyUM",
        "outputId": "7f460a6e-64ca-40e5-b57f-2d48dd27c847"
      },
      "execution_count": null,
      "outputs": [
        {
          "output_type": "stream",
          "name": "stdout",
          "text": [
            "1\n",
            "**************************************************\n",
            "I am a for bucle I am a for bucle I am a for bucle \n",
            "##################################################\n",
            "2\n",
            "**************************************************\n",
            "I am a for bucle I am a for bucle I am a for bucle \n",
            "##################################################\n",
            "3\n",
            "**************************************************\n",
            "I am a for bucle I am a for bucle I am a for bucle \n",
            "##################################################\n",
            "4\n",
            "**************************************************\n",
            "I am a for bucle I am a for bucle I am a for bucle \n",
            "##################################################\n",
            "5\n",
            "**************************************************\n",
            "I am a for bucle I am a for bucle I am a for bucle \n",
            "##################################################\n",
            "6\n",
            "**************************************************\n",
            "I am a for bucle I am a for bucle I am a for bucle \n",
            "##################################################\n",
            "7\n",
            "**************************************************\n",
            "I am a for bucle I am a for bucle I am a for bucle \n",
            "##################################################\n",
            "8\n",
            "**************************************************\n",
            "I am a for bucle I am a for bucle I am a for bucle \n",
            "##################################################\n",
            "9\n",
            "**************************************************\n",
            "I am a for bucle I am a for bucle I am a for bucle \n",
            "##################################################\n",
            "10\n",
            "**************************************************\n",
            "I am a for bucle I am a for bucle I am a for bucle \n",
            "##################################################\n"
          ]
        }
      ]
    },
    {
      "cell_type": "code",
      "source": [
        "empty_list = [] # creamos una lista vacía para los datos que deseemos ocupar nuevamente\n",
        "\n",
        "for i in range(100): # (i) es la variable iterable\n",
        "    empty_list.append(i)\n",
        "\n",
        "empty_list"
      ],
      "metadata": {
        "colab": {
          "base_uri": "https://localhost:8080/"
        },
        "id": "p75g5q4qQCyl",
        "outputId": "92810be9-c280-44de-d7e0-0c65db83f276"
      },
      "execution_count": null,
      "outputs": [
        {
          "output_type": "execute_result",
          "data": {
            "text/plain": [
              "[0,\n",
              " 1,\n",
              " 2,\n",
              " 3,\n",
              " 4,\n",
              " 5,\n",
              " 6,\n",
              " 7,\n",
              " 8,\n",
              " 9,\n",
              " 10,\n",
              " 11,\n",
              " 12,\n",
              " 13,\n",
              " 14,\n",
              " 15,\n",
              " 16,\n",
              " 17,\n",
              " 18,\n",
              " 19,\n",
              " 20,\n",
              " 21,\n",
              " 22,\n",
              " 23,\n",
              " 24,\n",
              " 25,\n",
              " 26,\n",
              " 27,\n",
              " 28,\n",
              " 29,\n",
              " 30,\n",
              " 31,\n",
              " 32,\n",
              " 33,\n",
              " 34,\n",
              " 35,\n",
              " 36,\n",
              " 37,\n",
              " 38,\n",
              " 39,\n",
              " 40,\n",
              " 41,\n",
              " 42,\n",
              " 43,\n",
              " 44,\n",
              " 45,\n",
              " 46,\n",
              " 47,\n",
              " 48,\n",
              " 49,\n",
              " 50,\n",
              " 51,\n",
              " 52,\n",
              " 53,\n",
              " 54,\n",
              " 55,\n",
              " 56,\n",
              " 57,\n",
              " 58,\n",
              " 59,\n",
              " 60,\n",
              " 61,\n",
              " 62,\n",
              " 63,\n",
              " 64,\n",
              " 65,\n",
              " 66,\n",
              " 67,\n",
              " 68,\n",
              " 69,\n",
              " 70,\n",
              " 71,\n",
              " 72,\n",
              " 73,\n",
              " 74,\n",
              " 75,\n",
              " 76,\n",
              " 77,\n",
              " 78,\n",
              " 79,\n",
              " 80,\n",
              " 81,\n",
              " 82,\n",
              " 83,\n",
              " 84,\n",
              " 85,\n",
              " 86,\n",
              " 87,\n",
              " 88,\n",
              " 89,\n",
              " 90,\n",
              " 91,\n",
              " 92,\n",
              " 93,\n",
              " 94,\n",
              " 95,\n",
              " 96,\n",
              " 97,\n",
              " 98,\n",
              " 99]"
            ]
          },
          "metadata": {},
          "execution_count": 13
        }
      ]
    },
    {
      "cell_type": "code",
      "source": [
        "list_names = ['        MACAYLA  ', ' LUIS      ', 'MARYA'] # quitamos espacios, y convertimos a minusculas\n",
        "\n",
        "empty_list = []\n",
        "\n",
        "# for name in list_names:\n",
        "#   fixed_name = name.strip()\n",
        "#   fixed_name = fixed_name.lower()\n",
        "#   empty_list.append(fixed_name)\n",
        "#   print(empty_list)\n",
        "\n",
        "for name in list_names: # Version corta mejorada\n",
        "  empty_list.append(name.strip().lower())\n",
        "  print(empty_list)\n"
      ],
      "metadata": {
        "colab": {
          "base_uri": "https://localhost:8080/"
        },
        "id": "Ku7VvXTHTIV6",
        "outputId": "5e411f08-9be6-4096-f4ce-e95d288d431e"
      },
      "execution_count": null,
      "outputs": [
        {
          "output_type": "stream",
          "name": "stdout",
          "text": [
            "['macayla']\n",
            "['macayla', 'luis']\n",
            "['macayla', 'luis', 'marya']\n"
          ]
        }
      ]
    },
    {
      "cell_type": "code",
      "source": [
        "import this # fundamentos de python en la legibilidad del codigo"
      ],
      "metadata": {
        "colab": {
          "base_uri": "https://localhost:8080/"
        },
        "id": "muVbTZFVX2kX",
        "outputId": "fe691e80-03d3-43a6-fa11-1d2fb82ebf82"
      },
      "execution_count": null,
      "outputs": [
        {
          "output_type": "stream",
          "name": "stdout",
          "text": [
            "The Zen of Python, by Tim Peters\n",
            "\n",
            "Beautiful is better than ugly.\n",
            "Explicit is better than implicit.\n",
            "Simple is better than complex.\n",
            "Complex is better than complicated.\n",
            "Flat is better than nested.\n",
            "Sparse is better than dense.\n",
            "Readability counts.\n",
            "Special cases aren't special enough to break the rules.\n",
            "Although practicality beats purity.\n",
            "Errors should never pass silently.\n",
            "Unless explicitly silenced.\n",
            "In the face of ambiguity, refuse the temptation to guess.\n",
            "There should be one-- and preferably only one --obvious way to do it.\n",
            "Although that way may not be obvious at first unless you're Dutch.\n",
            "Now is better than never.\n",
            "Although never is often better than *right* now.\n",
            "If the implementation is hard to explain, it's a bad idea.\n",
            "If the implementation is easy to explain, it may be a good idea.\n",
            "Namespaces are one honking great idea -- let's do more of those!\n"
          ]
        }
      ]
    }
  ]
}